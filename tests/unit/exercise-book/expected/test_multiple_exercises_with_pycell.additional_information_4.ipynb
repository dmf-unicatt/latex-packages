{
 "cells": [
  {
   "cell_type": "code",
   "execution_count": null,
   "id": "8f9c689e",
   "metadata": {},
   "outputs": [],
   "source": [
    "numbers = [5, 5]"
   ]
  },
  {
   "cell_type": "code",
   "execution_count": null,
   "id": "88fd528f",
   "metadata": {},
   "outputs": [],
   "source": [
    "import plotly.express as px\n",
    "fig = px.scatter(\n",
    "    x=[1, 2],\n",
    "    y=[numbers[0], numbers[0] + numbers[1]]\n",
    ")\n",
    "fig"
   ]
  },
  {
   "cell_type": "code",
   "execution_count": null,
   "id": "cb001dcf",
   "metadata": {},
   "outputs": [],
   "source": [
    "print(sum(numbers))\n",
    "fig"
   ]
  }
 ],
 "metadata": {},
 "nbformat": 4,
 "nbformat_minor": 5
}
