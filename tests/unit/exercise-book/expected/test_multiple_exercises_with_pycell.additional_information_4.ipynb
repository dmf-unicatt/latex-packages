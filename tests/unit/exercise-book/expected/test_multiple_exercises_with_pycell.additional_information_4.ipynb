{
 "cells": [
  {
   "cell_type": "code",
   "execution_count": null,
   "id": "code_cell_0",
   "metadata": {},
   "outputs": [],
   "source": [
    "numbers = [5, 5]"
   ]
  },
  {
   "cell_type": "code",
   "execution_count": null,
   "id": "code_cell_1",
   "metadata": {},
   "outputs": [],
   "source": [
    "import plotly.express as px\n",
    "fig = px.scatter(\n",
    "    x=[1, 2],\n",
    "    y=[numbers[0], numbers[0] + numbers[1]]\n",
    ")\n",
    "fig"
   ]
  },
  {
   "cell_type": "code",
   "execution_count": null,
   "id": "code_cell_2",
   "metadata": {},
   "outputs": [],
   "source": [
    "print(sum(numbers))\n",
    "fig"
   ]
  }
 ],
 "metadata": {},
 "nbformat": 4,
 "nbformat_minor": 5
}
