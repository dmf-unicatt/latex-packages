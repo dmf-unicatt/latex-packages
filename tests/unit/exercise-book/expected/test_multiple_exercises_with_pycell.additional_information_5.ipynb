{
 "cells": [
  {
   "cell_type": "code",
   "execution_count": null,
   "id": "9add1eb7",
   "metadata": {},
   "outputs": [],
   "source": [
    "print(\"7 + 7 is\", 7 + 7)"
   ]
  }
 ],
 "metadata": {},
 "nbformat": 4,
 "nbformat_minor": 5
}
