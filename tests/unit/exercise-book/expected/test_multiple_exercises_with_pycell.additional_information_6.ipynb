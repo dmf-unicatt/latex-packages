{
 "cells": [
  {
   "cell_type": "code",
   "execution_count": null,
   "id": "b89bd468",
   "metadata": {},
   "outputs": [],
   "source": [
    "print(\"8 + 8 is\", 8 + 8)"
   ]
  }
 ],
 "metadata": {},
 "nbformat": 4,
 "nbformat_minor": 5
}
