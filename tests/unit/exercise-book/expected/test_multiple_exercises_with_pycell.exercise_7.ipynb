{
 "cells": [
  {
   "cell_type": "code",
   "execution_count": null,
   "id": "code_cell_0",
   "metadata": {},
   "outputs": [],
   "source": [
    "10 + 10"
   ]
  }
 ],
 "metadata": {},
 "nbformat": 4,
 "nbformat_minor": 5
}
