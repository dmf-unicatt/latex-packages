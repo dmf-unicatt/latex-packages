{
 "cells": [
  {
   "cell_type": "code",
   "execution_count": null,
   "id": "5390e5c2",
   "metadata": {},
   "outputs": [],
   "source": [
    "11 + 11"
   ]
  }
 ],
 "metadata": {},
 "nbformat": 4,
 "nbformat_minor": 5
}
