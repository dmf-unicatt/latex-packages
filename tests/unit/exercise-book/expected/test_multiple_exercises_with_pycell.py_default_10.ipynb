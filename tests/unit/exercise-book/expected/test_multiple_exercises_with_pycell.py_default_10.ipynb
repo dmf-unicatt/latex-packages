{
 "cells": [
  {
   "cell_type": "code",
   "execution_count": null,
   "id": "e3d14344",
   "metadata": {},
   "outputs": [],
   "source": [
    "3 + 3"
   ]
  },
  {
   "cell_type": "code",
   "execution_count": null,
   "id": "227624d8",
   "metadata": {},
   "outputs": [],
   "source": [
    "a = 3\n",
    "b = 3\n",
    "a + b"
   ]
  }
 ],
 "metadata": {},
 "nbformat": 4,
 "nbformat_minor": 5
}
