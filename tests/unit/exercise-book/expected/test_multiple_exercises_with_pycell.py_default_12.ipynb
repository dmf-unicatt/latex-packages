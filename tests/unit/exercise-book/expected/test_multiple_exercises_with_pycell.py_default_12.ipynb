{
 "cells": [
  {
   "cell_type": "code",
   "execution_count": null,
   "id": "706d2ab0",
   "metadata": {},
   "outputs": [],
   "source": [
    "numbers = [3, 13]"
   ]
  },
  {
   "cell_type": "code",
   "execution_count": null,
   "id": "7b1e757b",
   "metadata": {},
   "outputs": [],
   "source": [
    "import plotly.express as px\n",
    "fig = px.scatter(\n",
    "    x=[1, 2],\n",
    "    y=[numbers[0], numbers[0] + numbers[1]]\n",
    ")\n",
    "fig"
   ]
  },
  {
   "cell_type": "code",
   "execution_count": null,
   "id": "d1673fe1",
   "metadata": {},
   "outputs": [],
   "source": [
    "print(sum(numbers))\n",
    "fig"
   ]
  }
 ],
 "metadata": {},
 "nbformat": 4,
 "nbformat_minor": 5
}
