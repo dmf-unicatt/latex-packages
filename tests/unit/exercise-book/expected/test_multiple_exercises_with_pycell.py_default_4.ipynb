{
 "cells": [
  {
   "cell_type": "code",
   "execution_count": null,
   "id": "778feaa3",
   "metadata": {},
   "outputs": [],
   "source": [
    "13 + 3"
   ]
  }
 ],
 "metadata": {},
 "nbformat": 4,
 "nbformat_minor": 5
}
