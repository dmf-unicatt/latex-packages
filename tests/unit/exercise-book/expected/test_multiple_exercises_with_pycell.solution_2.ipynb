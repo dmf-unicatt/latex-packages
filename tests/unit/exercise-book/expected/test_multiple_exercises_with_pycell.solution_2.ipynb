{
 "cells": [
  {
   "cell_type": "code",
   "execution_count": null,
   "id": "fa6c2b5d",
   "metadata": {},
   "outputs": [],
   "source": [
    "3 + 3"
   ]
  }
 ],
 "metadata": {},
 "nbformat": 4,
 "nbformat_minor": 5
}
