{
 "cells": [
  {
   "cell_type": "markdown",
   "id": "markdown_cell_0",
   "metadata": {},
   "source": [
    "## Exercise 3.11"
   ]
  },
  {
   "cell_type": "markdown",
   "id": "markdown_cell_1",
   "metadata": {},
   "source": [
    "As stated in Example 3.10, we verify that $6$ is not prime by checking that $6 = 2 \\cdot 3$."
   ]
  },
  {
   "cell_type": "code",
   "execution_count": null,
   "id": "code_cell_0",
   "metadata": {},
   "outputs": [],
   "source": [
    "assert 6 == 2 * 3"
   ]
  },
  {
   "cell_type": "markdown",
   "id": "markdown_cell_2",
   "metadata": {},
   "source": [
    "## Exercise 3.13"
   ]
  },
  {
   "cell_type": "markdown",
   "id": "markdown_cell_3",
   "metadata": {},
   "source": [
    "As stated in Example 3.10, we verify that $10$ is not prime by checking that $10 = 2 \\cdot 5$."
   ]
  },
  {
   "cell_type": "code",
   "execution_count": null,
   "id": "code_cell_1",
   "metadata": {},
   "outputs": [],
   "source": [
    "# Use 10 instead of 6\n",
    "assert 10 == 2 * 5"
   ]
  }
 ],
 "metadata": {
  "kernelspec": {
   "display_name": "Python 3 (ipykernel)",
   "language": "python",
   "name": "python3"
  },
  "language_info": {
   "codemirror_mode": {
    "name": "ipython"
   },
   "file_extension": ".py",
   "mimetype": "text/x-python",
   "name": "python",
   "nbconvert_exporter": "python"
  }
 },
 "nbformat": 4,
 "nbformat_minor": 5
}
