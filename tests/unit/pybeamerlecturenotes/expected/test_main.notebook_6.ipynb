{
 "cells": [
  {
   "cell_type": "markdown",
   "id": "markdown_cell_0",
   "metadata": {},
   "source": [
    "Sample citations from the `chapter_6_requires.tex` file (which is not actually included in the main tex file): chapter A, equation A.1, (A.2)."
   ]
  }
 ],
 "metadata": {
  "kernelspec": {
   "display_name": "Python 3 (ipykernel)",
   "language": "python",
   "name": "python3"
  },
  "language_info": {
   "codemirror_mode": {
    "name": "ipython"
   },
   "file_extension": ".py",
   "mimetype": "text/x-python",
   "name": "python",
   "nbconvert_exporter": "python"
  }
 },
 "nbformat": 4,
 "nbformat_minor": 5
}
