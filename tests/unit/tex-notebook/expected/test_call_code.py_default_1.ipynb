{
 "cells": [
  {
   "cell_type": "code",
   "execution_count": null,
   "id": "4a21b9f6",
   "metadata": {},
   "outputs": [],
   "source": [
    "# This notebook was disabled"
   ]
  }
 ],
 "metadata": {},
 "nbformat": 4,
 "nbformat_minor": 5
}
