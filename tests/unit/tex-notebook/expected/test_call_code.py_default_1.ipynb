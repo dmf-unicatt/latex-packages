{
 "cells": [
  {
   "cell_type": "markdown",
   "id": "029583a5",
   "metadata": {},
   "source": [
    "This notebook was disabled"
   ]
  },
  {
   "cell_type": "code",
   "execution_count": null,
   "id": "0b5c1b47",
   "metadata": {},
   "outputs": [],
   "source": [
    "print('This notebook was disabled')"
   ]
  }
 ],
 "metadata": {},
 "nbformat": 4,
 "nbformat_minor": 5
}
