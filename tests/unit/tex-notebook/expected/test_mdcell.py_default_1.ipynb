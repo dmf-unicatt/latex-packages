{
 "cells": [
  {
   "cell_type": "markdown",
   "id": "markdown_cell_0",
   "metadata": {},
   "source": [
    "## This is Markdown\n",
    "\n",
    "- Bullet\n",
    "- Another bullet\n",
    "\n",
    "Some *italic* and **bold** text.\n",
    "\n",
    "1. Numbered\n",
    "2. List\n",
    "\n",
    "Some `inline code` and a [link](https://www.latex-project.org) appearing in LaTeX as a footnote.\n",
    "\n",
    "The cell can contain inline formulas like $1 + 2 = 3$, display math formulas like\n",
    "$$3 + 4 = 7$$\n",
    "and even more complicated environments like `aligned` (provided that they are embedded in dollars)\n",
    "$$\\begin{aligned}\n",
    "10 + 20 &= 30\\\\\n",
    "3 + 4 &= 7\n",
    "\\end{aligned}$$"
   ]
  }
 ],
 "metadata": {
  "kernelspec": {
   "display_name": "Python 3 (ipykernel)",
   "language": "python",
   "name": "python3"
  },
  "language_info": {
   "codemirror_mode": {
    "name": "ipython"
   },
   "file_extension": ".py",
   "mimetype": "text/x-python",
   "name": "python",
   "nbconvert_exporter": "python"
  }
 },
 "nbformat": 4,
 "nbformat_minor": 5
}
