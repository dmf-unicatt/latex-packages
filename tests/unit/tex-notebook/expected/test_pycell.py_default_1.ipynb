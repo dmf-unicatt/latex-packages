{
 "cells": [
  {
   "cell_type": "code",
   "execution_count": null,
   "id": "fc28ce53",
   "metadata": {},
   "outputs": [],
   "source": [
    "x = 1\n",
    "y = 2"
   ]
  },
  {
   "cell_type": "code",
   "execution_count": null,
   "id": "298171ff",
   "metadata": {},
   "outputs": [],
   "source": [
    "z = 3; n = 4"
   ]
  },
  {
   "cell_type": "code",
   "execution_count": null,
   "id": "31c57bea",
   "metadata": {},
   "outputs": [],
   "source": [
    "l = 6\n",
    "m = 7"
   ]
  },
  {
   "cell_type": "code",
   "execution_count": null,
   "id": "99c4a866",
   "metadata": {},
   "outputs": [],
   "source": [
    "print(x + y + z + n - l - m)"
   ]
  },
  {
   "cell_type": "code",
   "execution_count": null,
   "id": "2675314f",
   "metadata": {},
   "outputs": [],
   "source": [
    "x + y + z + n - l - m"
   ]
  },
  {
   "cell_type": "code",
   "execution_count": null,
   "id": "412a6204",
   "metadata": {},
   "outputs": [],
   "source": [
    "print(x + y + z + n - l - m + 1)\n",
    "x + y + z + n - l - m + 2"
   ]
  },
  {
   "cell_type": "code",
   "execution_count": null,
   "id": "aabfa4cc",
   "metadata": {},
   "outputs": [],
   "source": [
    "x = [1, 2, 3]\n",
    "y = [4, 5, 6]\n",
    "print(f\"{x}\")\n",
    "print(f\"{y}\")"
   ]
  }
 ],
 "metadata": {},
 "nbformat": 4,
 "nbformat_minor": 5
}
