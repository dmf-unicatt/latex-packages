{
 "cells": [
  {
   "cell_type": "code",
   "execution_count": null,
   "id": "9301f92a",
   "metadata": {},
   "outputs": [],
   "source": [
    "x = \"one\"\n",
    "y = \"two two\""
   ]
  },
  {
   "cell_type": "code",
   "execution_count": null,
   "id": "ba3f50bd",
   "metadata": {},
   "outputs": [],
   "source": [
    "z = \"three THREE_Three\"; n = \"FoUr_four quattro_cuatro\""
   ]
  },
  {
   "cell_type": "code",
   "execution_count": null,
   "id": "e776afe3",
   "metadata": {},
   "outputs": [],
   "source": [
    "\" \".join([x, y, z, n])"
   ]
  },
  {
   "cell_type": "code",
   "execution_count": null,
   "id": "7cf9374f",
   "metadata": {},
   "outputs": [],
   "source": [
    "print(\" \".join([x, y]))\n",
    "print(\" \".join([z, n]))"
   ]
  }
 ],
 "metadata": {},
 "nbformat": 4,
 "nbformat_minor": 5
}
