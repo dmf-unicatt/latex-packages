{
 "cells": [
  {
   "cell_type": "code",
   "execution_count": null,
   "id": "0b9dcf32",
   "metadata": {},
   "outputs": [],
   "source": [
    "x = \"one\"\n",
    "y = \"two two\""
   ]
  },
  {
   "cell_type": "code",
   "execution_count": null,
   "id": "b4b30d51",
   "metadata": {},
   "outputs": [],
   "source": [
    "z = \"three THREE_Three\"; n = \"FoUr_four quattro_cuatro\""
   ]
  },
  {
   "cell_type": "code",
   "execution_count": null,
   "id": "b07a1df9",
   "metadata": {},
   "outputs": [],
   "source": [
    "\" \".join([x, y, z, n])"
   ]
  },
  {
   "cell_type": "code",
   "execution_count": null,
   "id": "88194bf5",
   "metadata": {},
   "outputs": [],
   "source": [
    "print(\" \".join([x, y]))\n",
    "print(\" \".join([z, n]))"
   ]
  },
  {
   "cell_type": "code",
   "execution_count": null,
   "id": "aa2260ec",
   "metadata": {},
   "outputs": [],
   "source": [
    "Z = \"\"\"three\n",
    "THREE_Three\"\"\"\n",
    "N = \"\"\"FoUr_four\n",
    "quattro_cuatro\"\"\"\n",
    "print(\"\\n\".join([Z, N]))"
   ]
  },
  {
   "cell_type": "code",
   "execution_count": null,
   "id": "9b00bac1",
   "metadata": {},
   "outputs": [],
   "source": [
    "Z = '''three\n",
    "THREE_Three'''\n",
    "N = '''FoUr_four\n",
    "quattro_cuatro'''\n",
    "print(\"\\n\".join([Z, N]))"
   ]
  }
 ],
 "metadata": {},
 "nbformat": 4,
 "nbformat_minor": 5
}
