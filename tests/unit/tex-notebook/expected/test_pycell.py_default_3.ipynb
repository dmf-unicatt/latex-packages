{
 "cells": [
  {
   "cell_type": "code",
   "execution_count": null,
   "id": "e73c22eb",
   "metadata": {},
   "outputs": [],
   "source": [
    "a = 1\n",
    "b = \"this is a string\"\n",
    "print(a, b)"
   ]
  }
 ],
 "metadata": {},
 "nbformat": 4,
 "nbformat_minor": 5
}
