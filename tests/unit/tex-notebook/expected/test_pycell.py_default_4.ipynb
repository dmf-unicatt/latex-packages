{
 "cells": [
  {
   "cell_type": "code",
   "execution_count": null,
   "id": "750b425e",
   "metadata": {},
   "outputs": [],
   "source": [
    "import plotly.express as px\n",
    "fig = px.scatter(x=[1, 2, 3], y=[4, 5, 6])\n",
    "fig"
   ]
  },
  {
   "cell_type": "code",
   "execution_count": null,
   "id": "58f0cad8",
   "metadata": {},
   "outputs": [],
   "source": [
    "x = [10, 20, 30]\n",
    "y = [40, 50, 60]\n",
    "print(f\"x = {x}\")\n",
    "print(f\"y = {y}\")\n",
    "fig = px.scatter(x=x, y=y)\n",
    "fig"
   ]
  }
 ],
 "metadata": {},
 "nbformat": 4,
 "nbformat_minor": 5
}
