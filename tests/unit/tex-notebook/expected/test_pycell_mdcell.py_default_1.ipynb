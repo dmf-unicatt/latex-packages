{
 "cells": [
  {
   "cell_type": "markdown",
   "id": "67a541eb",
   "metadata": {},
   "source": [
    "We start from *the most simple* case possible, the case of numbers.\n",
    "\n",
    "Note that this content is typed in markdown, and then converted to LaTeX via the `markdown` package. It can contain inline formulas like $1 + 2 = 3$, display math formulas like\n",
    "$$3 + 4 = 7$$\n",
    "and even more complicated environments like `aligned` (provided that they are embedded in dollars)\n",
    "$$\\begin{aligned}\n",
    "10 + 20 &= 30\\\\\n",
    "3 + 4 &= 7\n",
    "\\end{aligned}$$"
   ]
  },
  {
   "cell_type": "code",
   "execution_count": null,
   "id": "bde45885",
   "metadata": {},
   "outputs": [],
   "source": [
    "x = 1\n",
    "y = 2"
   ]
  },
  {
   "cell_type": "code",
   "execution_count": null,
   "id": "23345da1",
   "metadata": {},
   "outputs": [],
   "source": [
    "z = 3; n = 4"
   ]
  },
  {
   "cell_type": "code",
   "execution_count": null,
   "id": "e851f93c",
   "metadata": {},
   "outputs": [],
   "source": [
    "l = 6\n",
    "m = 7"
   ]
  },
  {
   "cell_type": "markdown",
   "id": "1a262631",
   "metadata": {},
   "source": [
    "We can print a linear combination of the provided number from a pycell, either directly..."
   ]
  },
  {
   "cell_type": "code",
   "execution_count": null,
   "id": "fb84f92a",
   "metadata": {},
   "outputs": [],
   "source": [
    "print(x + y + z + n - l - m)"
   ]
  },
  {
   "cell_type": "markdown",
   "id": "54776f35",
   "metadata": {},
   "source": [
    "... implicitly ..."
   ]
  },
  {
   "cell_type": "code",
   "execution_count": null,
   "id": "af03b8f8",
   "metadata": {},
   "outputs": [],
   "source": [
    "x + y + z + n - l - m"
   ]
  },
  {
   "cell_type": "markdown",
   "id": "2d8b0669",
   "metadata": {},
   "source": [
    "... or in both ways (with duplicated output)"
   ]
  },
  {
   "cell_type": "code",
   "execution_count": null,
   "id": "b9fe7971",
   "metadata": {},
   "outputs": [],
   "source": [
    "print(x + y + z + n - l - m + 1)\n",
    "x + y + z + n - l - m + 2"
   ]
  },
  {
   "cell_type": "markdown",
   "id": "2ee7fe41",
   "metadata": {},
   "source": [
    "One can also print lists of numbers"
   ]
  },
  {
   "cell_type": "code",
   "execution_count": null,
   "id": "a56472ad",
   "metadata": {},
   "outputs": [],
   "source": [
    "x = [1, 2, 3]\n",
    "y = [4, 5, 6]\n",
    "print(f\"{x}\")\n",
    "print(f\"{y}\")"
   ]
  }
 ],
 "metadata": {},
 "nbformat": 4,
 "nbformat_minor": 5
}
