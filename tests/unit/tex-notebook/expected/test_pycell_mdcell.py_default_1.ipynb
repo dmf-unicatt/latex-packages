{
 "cells": [
  {
   "cell_type": "markdown",
   "id": "b19cc85a",
   "metadata": {},
   "source": [
    "We start from *the most simple* case possible, the case of numbers.\n",
    "\n",
    "Note that this content is typed in markdown, and then converted to LaTeX via the `markdown` package."
   ]
  },
  {
   "cell_type": "code",
   "execution_count": null,
   "id": "90cf3fb4",
   "metadata": {},
   "outputs": [],
   "source": [
    "x = 1\n",
    "y = 2"
   ]
  },
  {
   "cell_type": "code",
   "execution_count": null,
   "id": "ba36484a",
   "metadata": {},
   "outputs": [],
   "source": [
    "z = 3; n = 4"
   ]
  },
  {
   "cell_type": "code",
   "execution_count": null,
   "id": "48610f82",
   "metadata": {},
   "outputs": [],
   "source": [
    "l = 6\n",
    "m = 7"
   ]
  },
  {
   "cell_type": "markdown",
   "id": "94e60420",
   "metadata": {},
   "source": [
    "We can print a linear combination of the provided number from a pycell, either directly..."
   ]
  },
  {
   "cell_type": "code",
   "execution_count": null,
   "id": "9948dd87",
   "metadata": {},
   "outputs": [],
   "source": [
    "print(x + y + z + n - l - m)"
   ]
  },
  {
   "cell_type": "markdown",
   "id": "5c90d768",
   "metadata": {},
   "source": [
    "... implicitly ..."
   ]
  },
  {
   "cell_type": "code",
   "execution_count": null,
   "id": "26c0accd",
   "metadata": {},
   "outputs": [],
   "source": [
    "x + y + z + n - l - m"
   ]
  },
  {
   "cell_type": "markdown",
   "id": "8d19ba2c",
   "metadata": {},
   "source": [
    "... or in both ways (with duplicated output)"
   ]
  },
  {
   "cell_type": "code",
   "execution_count": null,
   "id": "ac60a5ce",
   "metadata": {},
   "outputs": [],
   "source": [
    "print(x + y + z + n - l - m + 1)\n",
    "x + y + z + n - l - m + 2"
   ]
  },
  {
   "cell_type": "markdown",
   "id": "f1f88b76",
   "metadata": {},
   "source": [
    "One can also print lists of numbers"
   ]
  },
  {
   "cell_type": "code",
   "execution_count": null,
   "id": "6e6ffac8",
   "metadata": {},
   "outputs": [],
   "source": [
    "x = [1, 2, 3]\n",
    "y = [4, 5, 6]\n",
    "print(f\"{x}\")\n",
    "print(f\"{y}\")"
   ]
  }
 ],
 "metadata": {},
 "nbformat": 4,
 "nbformat_minor": 5
}
