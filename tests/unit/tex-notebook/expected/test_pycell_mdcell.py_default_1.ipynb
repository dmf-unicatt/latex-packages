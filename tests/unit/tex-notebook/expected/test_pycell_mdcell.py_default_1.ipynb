{
 "cells": [
  {
   "cell_type": "markdown",
   "id": "markdown_cell_0",
   "metadata": {},
   "source": [
    "We start from *the most simple* case possible, the case of numbers.\n",
    "\n",
    "Note that this content is typed in markdown, and then converted to LaTeX via the `markdown` package."
   ]
  },
  {
   "cell_type": "code",
   "execution_count": null,
   "id": "code_cell_0",
   "metadata": {},
   "outputs": [],
   "source": [
    "x = 1\n",
    "y = 2"
   ]
  },
  {
   "cell_type": "code",
   "execution_count": null,
   "id": "code_cell_1",
   "metadata": {},
   "outputs": [],
   "source": [
    "z = 3; n = 4"
   ]
  },
  {
   "cell_type": "code",
   "execution_count": null,
   "id": "code_cell_2",
   "metadata": {},
   "outputs": [],
   "source": [
    "l = 6\n",
    "m = 7"
   ]
  },
  {
   "cell_type": "markdown",
   "id": "markdown_cell_1",
   "metadata": {},
   "source": [
    "We can print a linear combination of the provided number from a pycell, either directly..."
   ]
  },
  {
   "cell_type": "code",
   "execution_count": null,
   "id": "code_cell_3",
   "metadata": {},
   "outputs": [],
   "source": [
    "print(x + y + z + n - l - m)"
   ]
  },
  {
   "cell_type": "markdown",
   "id": "markdown_cell_2",
   "metadata": {},
   "source": [
    "... implicitly ..."
   ]
  },
  {
   "cell_type": "code",
   "execution_count": null,
   "id": "code_cell_4",
   "metadata": {},
   "outputs": [],
   "source": [
    "x + y + z + n - l - m"
   ]
  },
  {
   "cell_type": "markdown",
   "id": "markdown_cell_3",
   "metadata": {},
   "source": [
    "... or in both ways (with duplicated output)"
   ]
  },
  {
   "cell_type": "code",
   "execution_count": null,
   "id": "code_cell_5",
   "metadata": {},
   "outputs": [],
   "source": [
    "print(x + y + z + n - l - m + 1)\n",
    "x + y + z + n - l - m + 2"
   ]
  },
  {
   "cell_type": "markdown",
   "id": "markdown_cell_4",
   "metadata": {},
   "source": [
    "One can also print lists of numbers"
   ]
  },
  {
   "cell_type": "code",
   "execution_count": null,
   "id": "code_cell_6",
   "metadata": {},
   "outputs": [],
   "source": [
    "x = [1, 2, 3]\n",
    "y = [4, 5, 6]\n",
    "print(f\"{x}\")\n",
    "print(f\"{y}\")"
   ]
  }
 ],
 "metadata": {},
 "nbformat": 4,
 "nbformat_minor": 5
}
