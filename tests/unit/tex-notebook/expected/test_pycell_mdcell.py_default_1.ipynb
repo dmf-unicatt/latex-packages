{
 "cells": [
  {
   "cell_type": "markdown",
   "id": "b0885dbf",
   "metadata": {},
   "source": [
    "We start from *the most simple* case possible, the case of numbers.\n",
    "\n",
    "Note that this content is typed in markdown, and then converted to LaTeX via the `markdown` package."
   ]
  },
  {
   "cell_type": "code",
   "execution_count": null,
   "id": "c96aadeb",
   "metadata": {},
   "outputs": [],
   "source": [
    "x = 1\n",
    "y = 2"
   ]
  },
  {
   "cell_type": "code",
   "execution_count": null,
   "id": "8d87526e",
   "metadata": {},
   "outputs": [],
   "source": [
    "z = 3; n = 4"
   ]
  },
  {
   "cell_type": "code",
   "execution_count": null,
   "id": "1f93d9d0",
   "metadata": {},
   "outputs": [],
   "source": [
    "l = 6\n",
    "m = 7"
   ]
  },
  {
   "cell_type": "markdown",
   "id": "5db74bd3",
   "metadata": {},
   "source": [
    "We can print a linear combination of the provided number from a pycell, either directly..."
   ]
  },
  {
   "cell_type": "code",
   "execution_count": null,
   "id": "43a28421",
   "metadata": {},
   "outputs": [],
   "source": [
    "print(x + y + z + n - l - m)"
   ]
  },
  {
   "cell_type": "markdown",
   "id": "33eb108d",
   "metadata": {},
   "source": [
    "... implicitly ..."
   ]
  },
  {
   "cell_type": "code",
   "execution_count": null,
   "id": "505b9f83",
   "metadata": {},
   "outputs": [],
   "source": [
    "x + y + z + n - l - m"
   ]
  },
  {
   "cell_type": "markdown",
   "id": "c7efee04",
   "metadata": {},
   "source": [
    "... or in both ways (with duplicated output)"
   ]
  },
  {
   "cell_type": "code",
   "execution_count": null,
   "id": "a0929a18",
   "metadata": {},
   "outputs": [],
   "source": [
    "print(x + y + z + n - l - m + 1)\n",
    "x + y + z + n - l - m + 2"
   ]
  },
  {
   "cell_type": "markdown",
   "id": "5236e482",
   "metadata": {},
   "source": [
    "One can also print lists of numbers"
   ]
  },
  {
   "cell_type": "code",
   "execution_count": null,
   "id": "45dd259e",
   "metadata": {},
   "outputs": [],
   "source": [
    "x = [1, 2, 3]\n",
    "y = [4, 5, 6]\n",
    "print(f\"{x}\")\n",
    "print(f\"{y}\")"
   ]
  }
 ],
 "metadata": {},
 "nbformat": 4,
 "nbformat_minor": 5
}
