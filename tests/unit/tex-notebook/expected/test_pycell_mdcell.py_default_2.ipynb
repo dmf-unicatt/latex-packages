{
 "cells": [
  {
   "cell_type": "markdown",
   "id": "6991b06b",
   "metadata": {},
   "source": [
    "One can print simple strings, possibly containing spaces"
   ]
  },
  {
   "cell_type": "code",
   "execution_count": null,
   "id": "d76a2493",
   "metadata": {},
   "outputs": [],
   "source": [
    "x = \"one\"\n",
    "y = \"two two\""
   ]
  },
  {
   "cell_type": "code",
   "execution_count": null,
   "id": "91b90b72",
   "metadata": {},
   "outputs": [],
   "source": [
    "z = \"three THREE_Three\"; n = \"FoUr_four quattro_cuatro\""
   ]
  },
  {
   "cell_type": "code",
   "execution_count": null,
   "id": "c3ea3216",
   "metadata": {},
   "outputs": [],
   "source": [
    "\" \".join([x, y, z, n])"
   ]
  },
  {
   "cell_type": "code",
   "execution_count": null,
   "id": "4da256de",
   "metadata": {},
   "outputs": [],
   "source": [
    "print(\" \".join([x, y]))\n",
    "print(\" \".join([z, n]))"
   ]
  },
  {
   "cell_type": "markdown",
   "id": "743262fb",
   "metadata": {},
   "source": [
    "One can also print multiline strings"
   ]
  },
  {
   "cell_type": "code",
   "execution_count": null,
   "id": "42938249",
   "metadata": {},
   "outputs": [],
   "source": [
    "Z = \"\"\"three\n",
    "THREE_Three\"\"\"\n",
    "N = \"\"\"FoUr_four\n",
    "quattro_cuatro\"\"\"\n",
    "print(\"\\n\".join([Z, N]))"
   ]
  },
  {
   "cell_type": "code",
   "execution_count": null,
   "id": "6188e1f2",
   "metadata": {},
   "outputs": [],
   "source": [
    "Z = '''three\n",
    "THREE_Three'''\n",
    "N = '''FoUr_four\n",
    "quattro_cuatro'''\n",
    "print(\"\\n\".join([Z, N]))"
   ]
  }
 ],
 "metadata": {},
 "nbformat": 4,
 "nbformat_minor": 5
}
