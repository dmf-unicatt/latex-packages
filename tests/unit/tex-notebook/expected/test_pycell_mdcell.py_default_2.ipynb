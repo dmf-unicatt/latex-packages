{
 "cells": [
  {
   "cell_type": "markdown",
   "id": "markdown_cell_0",
   "metadata": {},
   "source": [
    "One can print simple strings, possibly containing spaces"
   ]
  },
  {
   "cell_type": "code",
   "execution_count": null,
   "id": "code_cell_0",
   "metadata": {},
   "outputs": [],
   "source": [
    "x = \"one\"\n",
    "y = \"two two\""
   ]
  },
  {
   "cell_type": "code",
   "execution_count": null,
   "id": "code_cell_1",
   "metadata": {},
   "outputs": [],
   "source": [
    "z = \"three THREE_Three\"; n = \"FoUr_four quattro_cuatro\""
   ]
  },
  {
   "cell_type": "code",
   "execution_count": null,
   "id": "code_cell_2",
   "metadata": {},
   "outputs": [],
   "source": [
    "\" \".join([x, y, z, n])"
   ]
  },
  {
   "cell_type": "code",
   "execution_count": null,
   "id": "code_cell_3",
   "metadata": {},
   "outputs": [],
   "source": [
    "print(\" \".join([x, y]))\n",
    "print(\" \".join([z, n]))"
   ]
  },
  {
   "cell_type": "markdown",
   "id": "markdown_cell_1",
   "metadata": {},
   "source": [
    "One can also print multiline strings"
   ]
  },
  {
   "cell_type": "code",
   "execution_count": null,
   "id": "code_cell_4",
   "metadata": {},
   "outputs": [],
   "source": [
    "Z = \"\"\"three\n",
    "THREE_Three\"\"\"\n",
    "N = \"\"\"FoUr_four\n",
    "quattro_cuatro\"\"\"\n",
    "print(\"\\n\".join([Z, N]))"
   ]
  },
  {
   "cell_type": "code",
   "execution_count": null,
   "id": "code_cell_5",
   "metadata": {},
   "outputs": [],
   "source": [
    "Z = '''three\n",
    "THREE_Three'''\n",
    "N = '''FoUr_four\n",
    "quattro_cuatro'''\n",
    "print(\"\\n\".join([Z, N]))"
   ]
  }
 ],
 "metadata": {
  "kernelspec": {
   "display_name": "Python 3 (ipykernel)",
   "language": "python",
   "name": "python3"
  },
  "language_info": {
   "codemirror_mode": {
    "name": "ipython"
   },
   "file_extension": ".py",
   "mimetype": "text/x-python",
   "name": "python",
   "nbconvert_exporter": "python"
  }
 },
 "nbformat": 4,
 "nbformat_minor": 5
}
