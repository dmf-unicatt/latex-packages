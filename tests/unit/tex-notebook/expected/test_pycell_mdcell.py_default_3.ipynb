{
 "cells": [
  {
   "cell_type": "markdown",
   "id": "5c5e1357",
   "metadata": {},
   "source": [
    "In this file the python session resets at every chapter, and therefore"
   ]
  },
  {
   "cell_type": "code",
   "execution_count": null,
   "id": "6a8adb14",
   "metadata": {},
   "outputs": [],
   "source": [
    "a = 1\n",
    "b = \"this is a string\"\n",
    "print(a, b)"
   ]
  },
  {
   "cell_type": "markdown",
   "id": "8568562c",
   "metadata": {},
   "source": [
    "works, but trying to use the variable `x` from the previous chapter would not (see `test_pycell_FAIL.tex`)."
   ]
  }
 ],
 "metadata": {},
 "nbformat": 4,
 "nbformat_minor": 5
}
