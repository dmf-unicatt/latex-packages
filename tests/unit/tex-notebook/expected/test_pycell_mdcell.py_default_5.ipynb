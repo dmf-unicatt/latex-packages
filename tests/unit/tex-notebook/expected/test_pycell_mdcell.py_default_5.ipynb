{
 "cells": [
  {
   "cell_type": "markdown",
   "id": "markdown_cell_0",
   "metadata": {},
   "source": [
    "We are inside the markdown cell: refer to (5.1) and to Figure 5.1."
   ]
  }
 ],
 "metadata": {},
 "nbformat": 4,
 "nbformat_minor": 5
}
