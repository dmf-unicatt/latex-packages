{
 "cells": [
  {
   "cell_type": "markdown",
   "id": "markdown_cell_0",
   "metadata": {},
   "source": [
    "This is a text commenting the definition of the variable `a`. The text will appear in the notebook and in the pdf."
   ]
  },
  {
   "cell_type": "code",
   "execution_count": null,
   "id": "code_cell_0",
   "metadata": {},
   "outputs": [],
   "source": [
    "a = 1"
   ]
  },
  {
   "cell_type": "markdown",
   "id": "markdown_cell_1",
   "metadata": {},
   "source": [
    "This is a text commenting the definition of the variable `b`. The text will appear in the notebook and in the pdf."
   ]
  },
  {
   "cell_type": "code",
   "execution_count": null,
   "id": "code_cell_1",
   "metadata": {},
   "outputs": [],
   "source": [
    "b = 2"
   ]
  },
  {
   "cell_type": "markdown",
   "id": "markdown_cell_2",
   "metadata": {},
   "source": [
    "This is a text commenting the definition of the variable `c`. The text will appear in the notebook, but not in the pdf."
   ]
  },
  {
   "cell_type": "code",
   "execution_count": null,
   "id": "code_cell_2",
   "metadata": {},
   "outputs": [],
   "source": [
    "c = 3"
   ]
  },
  {
   "cell_type": "code",
   "execution_count": null,
   "id": "code_cell_3",
   "metadata": {},
   "outputs": [],
   "source": [
    "a + b + c"
   ]
  }
 ],
 "metadata": {
  "kernelspec": {
   "display_name": "Python 3 (ipykernel)",
   "language": "python",
   "name": "python3"
  },
  "language_info": {
   "codemirror_mode": {
    "name": "ipython"
   },
   "file_extension": ".py",
   "mimetype": "text/x-python",
   "name": "python",
   "nbconvert_exporter": "python"
  }
 },
 "nbformat": 4,
 "nbformat_minor": 5
}
