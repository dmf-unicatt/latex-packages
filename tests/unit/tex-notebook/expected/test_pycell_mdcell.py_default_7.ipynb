{
 "cells": [
  {
   "cell_type": "markdown",
   "id": "markdown_cell_0",
   "metadata": {},
   "source": [
    "The package internally sets `numpy` printing with the `precision = 3`, `suppress = False`, `edgeitems = 3`, `threshold = 12`. The user can still customize these choices by replacing them with `np.set_printoptions`. Furthermore, it omits types like `np.float64` or `np.int32` while printing the numerical results: this behavior cannot be disabled."
   ]
  },
  {
   "cell_type": "code",
   "execution_count": null,
   "id": "code_cell_0",
   "metadata": {},
   "outputs": [],
   "source": [
    "import numpy as np\n",
    "pi = np.float64(np.pi)"
   ]
  },
  {
   "cell_type": "code",
   "execution_count": null,
   "id": "code_cell_1",
   "metadata": {},
   "outputs": [],
   "source": [
    "pi"
   ]
  },
  {
   "cell_type": "code",
   "execution_count": null,
   "id": "code_cell_2",
   "metadata": {},
   "outputs": [],
   "source": [
    "print(pi)"
   ]
  },
  {
   "cell_type": "code",
   "execution_count": null,
   "id": "code_cell_3",
   "metadata": {},
   "outputs": [],
   "source": [
    "repr(pi)"
   ]
  },
  {
   "cell_type": "code",
   "execution_count": null,
   "id": "code_cell_4",
   "metadata": {},
   "outputs": [],
   "source": [
    "pi123 = np.array([pi, 2 * pi, 3 * pi])"
   ]
  },
  {
   "cell_type": "code",
   "execution_count": null,
   "id": "code_cell_5",
   "metadata": {},
   "outputs": [],
   "source": [
    "pi123"
   ]
  },
  {
   "cell_type": "code",
   "execution_count": null,
   "id": "code_cell_6",
   "metadata": {},
   "outputs": [],
   "source": [
    "print(pi123)"
   ]
  },
  {
   "cell_type": "code",
   "execution_count": null,
   "id": "code_cell_7",
   "metadata": {},
   "outputs": [],
   "source": [
    "repr(pi123)"
   ]
  },
  {
   "cell_type": "markdown",
   "id": "markdown_cell_1",
   "metadata": {},
   "source": [
    "The package also does the following configuration for `plotly` images:\n",
    "\n",
    "* The library trims white space from within the image to save space in the LaTeX document: this behavior cannot be configured.\n",
    "* If width and height are not assigned, a default value of `plotly_default_width = 700`, `plotly_default_height = 500` is assigned. The default value can be changed by modifying `pytex.plotly_default_width` and `pytex.plotly_default_height`.\n",
    "* Before saving, each dimension of the image is rescaled by a factor `plotly_default_scale = 2`. The default value can be changed by modifying `pytex.plotly_default_scale`."
   ]
  },
  {
   "cell_type": "markdown",
   "id": "markdown_cell_2",
   "metadata": {},
   "source": [
    "We prepare data for the visualization of the function $f(x, y) = x^2 + 2 y^2$ on the domain $D = [-1, 1]^2$."
   ]
  },
  {
   "cell_type": "code",
   "execution_count": null,
   "id": "code_cell_8",
   "metadata": {},
   "outputs": [],
   "source": [
    "x_plot = np.linspace(-1, 1, 100)\n",
    "y_plot = np.linspace(-1, 1, 100)\n",
    "X_plot, Y_plot = np.meshgrid(x_plot, y_plot)\n",
    "Z_plot = X_plot**2 + 2 * Y_plot**2"
   ]
  },
  {
   "cell_type": "markdown",
   "id": "markdown_cell_3",
   "metadata": {},
   "source": [
    "We next import `plotly`. We also add an auxiliary function to change the background to black, so that white space trimming has no effect."
   ]
  },
  {
   "cell_type": "code",
   "execution_count": null,
   "id": "code_cell_9",
   "metadata": {},
   "outputs": [],
   "source": [
    "import plotly.graph_objects as go"
   ]
  },
  {
   "cell_type": "code",
   "execution_count": null,
   "id": "code_cell_10",
   "metadata": {},
   "outputs": [],
   "source": [
    "def set_black_background(fig):\n",
    "    \"\"\"Set black background to a plotly figure.\"\"\"\n",
    "    fig.update_layout(\n",
    "        paper_bgcolor=\"black\",   # figure background\n",
    "        plot_bgcolor=\"black\",    # plot area background\n",
    "        font=dict(color=\"white\") # make text white\n",
    "    )"
   ]
  },
  {
   "cell_type": "code",
   "execution_count": null,
   "id": "code_cell_11",
   "metadata": {},
   "outputs": [],
   "source": [
    "def check_image_size(image_paths, expected_dimensions):\n",
    "    \"\"\"Ensure that the images have the expected dimensions.\"\"\"\n",
    "    import PIL.Image\n",
    "    if len(expected_dimensions) == 2:\n",
    "        expected_width, expected_height = expected_dimensions\n",
    "        expected_width_tolerance = 0\n",
    "        expected_height_tolerance = 0\n",
    "    else:\n",
    "        assert len(expected_dimensions) == 4\n",
    "        (\n",
    "            expected_width, expected_width_tolerance,\n",
    "            expected_height, expected_height_tolerance\n",
    "        ) = expected_dimensions\n",
    "    for image_path in image_paths:\n",
    "        img = PIL.Image.open(image_path)\n",
    "        width, height = img.size\n",
    "        assert (\n",
    "            abs(width - expected_width)\n",
    "            <= expected_width_tolerance\n",
    "        ), (\n",
    "            f\"Image {image_path} has width \"\n",
    "            f\"{width}, but expected width was \"\n",
    "            f\"{expected_width} with tolerance \"\n",
    "            f\"{expected_width_tolerance}\"\n",
    "        )\n",
    "        assert (\n",
    "            abs(height - expected_height)\n",
    "            <= expected_height_tolerance\n",
    "        ), (\n",
    "            f\"Image {image_path} has height \"\n",
    "            f\"{height}, but expected height was \"\n",
    "            f\"{expected_height} with tolerance \"\n",
    "            f\"{expected_height_tolerance}\"\n",
    "        )"
   ]
  },
  {
   "cell_type": "markdown",
   "id": "markdown_cell_4",
   "metadata": {},
   "source": [
    "We save a contour plot using the default width and height."
   ]
  },
  {
   "cell_type": "code",
   "execution_count": null,
   "id": "code_cell_12",
   "metadata": {},
   "outputs": [],
   "source": [
    "print('This cell was disabled because it contains the command pytex')"
   ]
  },
  {
   "cell_type": "code",
   "execution_count": null,
   "id": "code_cell_13",
   "metadata": {},
   "outputs": [],
   "source": [
    "print('This cell was disabled because it contains the variable fig_path')"
   ]
  },
  {
   "cell_type": "code",
   "execution_count": null,
   "id": "code_cell_14",
   "metadata": {},
   "outputs": [],
   "source": [
    "print('This cell was disabled because it contains the command pytex')"
   ]
  },
  {
   "cell_type": "code",
   "execution_count": null,
   "id": "code_cell_15",
   "metadata": {},
   "outputs": [],
   "source": [
    "print('This cell was disabled because it contains the variable fig_path')"
   ]
  },
  {
   "cell_type": "markdown",
   "id": "markdown_cell_5",
   "metadata": {},
   "source": [
    "We next save a contour plot manually assigning width and height."
   ]
  },
  {
   "cell_type": "code",
   "execution_count": null,
   "id": "code_cell_16",
   "metadata": {},
   "outputs": [],
   "source": [
    "print('This cell was disabled because it contains the command pytex')"
   ]
  },
  {
   "cell_type": "code",
   "execution_count": null,
   "id": "code_cell_17",
   "metadata": {},
   "outputs": [],
   "source": [
    "print('This cell was disabled because it contains the variable fig_path')"
   ]
  },
  {
   "cell_type": "code",
   "execution_count": null,
   "id": "code_cell_18",
   "metadata": {},
   "outputs": [],
   "source": [
    "print('This cell was disabled because it contains the command pytex')"
   ]
  },
  {
   "cell_type": "code",
   "execution_count": null,
   "id": "code_cell_19",
   "metadata": {},
   "outputs": [],
   "source": [
    "print('This cell was disabled because it contains the variable fig_path')"
   ]
  },
  {
   "cell_type": "markdown",
   "id": "markdown_cell_6",
   "metadata": {},
   "source": [
    "We finally change the default width, height and scale, and prepare new contour plots."
   ]
  },
  {
   "cell_type": "code",
   "execution_count": null,
   "id": "code_cell_20",
   "metadata": {},
   "outputs": [],
   "source": [
    "print('This cell was disabled because it contains the command pytex')"
   ]
  },
  {
   "cell_type": "code",
   "execution_count": null,
   "id": "code_cell_21",
   "metadata": {},
   "outputs": [],
   "source": [
    "print('This cell was disabled because it contains the command pytex')"
   ]
  },
  {
   "cell_type": "code",
   "execution_count": null,
   "id": "code_cell_22",
   "metadata": {},
   "outputs": [],
   "source": [
    "print('This cell was disabled because it contains the variable fig_path')"
   ]
  },
  {
   "cell_type": "code",
   "execution_count": null,
   "id": "code_cell_23",
   "metadata": {},
   "outputs": [],
   "source": [
    "print('This cell was disabled because it contains the command pytex')"
   ]
  },
  {
   "cell_type": "code",
   "execution_count": null,
   "id": "code_cell_24",
   "metadata": {},
   "outputs": [],
   "source": [
    "print('This cell was disabled because it contains the variable fig_path')"
   ]
  },
  {
   "cell_type": "markdown",
   "id": "markdown_cell_7",
   "metadata": {},
   "source": [
    "We assign the defaults back."
   ]
  },
  {
   "cell_type": "code",
   "execution_count": null,
   "id": "code_cell_25",
   "metadata": {},
   "outputs": [],
   "source": [
    "print('This cell was disabled because it contains the command pytex')"
   ]
  },
  {
   "cell_type": "code",
   "execution_count": null,
   "id": "code_cell_26",
   "metadata": {},
   "outputs": [],
   "source": [
    "print('This cell was disabled because it contains the command pytex')"
   ]
  }
 ],
 "metadata": {
  "kernelspec": {
   "display_name": "Python 3 (ipykernel)",
   "language": "python",
   "name": "python3"
  },
  "language_info": {
   "codemirror_mode": {
    "name": "ipython"
   },
   "file_extension": ".py",
   "mimetype": "text/x-python",
   "name": "python",
   "nbconvert_exporter": "python"
  }
 },
 "nbformat": 4,
 "nbformat_minor": 5
}
